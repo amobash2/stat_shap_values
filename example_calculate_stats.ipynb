{
 "cells": [
  {
   "cell_type": "code",
   "execution_count": null,
   "metadata": {},
   "outputs": [],
   "source": [
    "import pandas as pd\n",
    "from calculate_stats import CalStatistics\n",
    "import os"
   ]
  },
  {
   "cell_type": "code",
   "execution_count": null,
   "metadata": {},
   "outputs": [],
   "source": [
    "data_path = \"/data/hotel_bookings.csv\"\n",
    "data = pd.read_csv(os.getcwd() + data_path)\n",
    "data.head(n = 2)"
   ]
  },
  {
   "cell_type": "code",
   "execution_count": null,
   "metadata": {},
   "outputs": [],
   "source": [
    "cat_features = [\"arrival_date_month\", \"deposit_type\", \"customer_type\"]\n",
    "encoded_data = pd.get_dummies(data[cat_features])\n",
    "encoded_columns = list(encoded_data)\n",
    "\n",
    "updated_data = data.join(encoded_data)\n",
    "updated_data.head(n = 2)"
   ]
  },
  {
   "cell_type": "code",
   "execution_count": null,
   "metadata": {},
   "outputs": [],
   "source": [
    "target = \"is_canceled\"\n",
    "features = [\"lead_time\", \"arrival_date_year\", \"arrival_date_week_number\", \"arrival_date_day_of_month\", \"booking_changes\"]\n",
    "updated_features = features + encoded_columns"
   ]
  },
  {
   "cell_type": "code",
   "execution_count": null,
   "metadata": {},
   "outputs": [],
   "source": [
    "corr, \\\n",
    "    dist_corr, \\\n",
    "    entropy_df, \\\n",
    "    tree_importance_df, \\\n",
    "    shap_df, \\\n",
    "    vif_df, \\\n",
    "    test_stats, \\\n",
    "    data_level_stats= CalStatistics(updated_data[updated_features + [target]], target, updated_features).return_calculated_stats()"
   ]
  },
  {
   "cell_type": "code",
   "execution_count": null,
   "metadata": {},
   "outputs": [],
   "source": [
    "shap_df.to_csv(os.getcwd() + \"/data/shap_df.csv\")\n",
    "tree_importance_df.to_csv(os.getcwd() + \"/data/tree_importance_df.csv\")"
   ]
  },
  {
   "cell_type": "code",
   "execution_count": null,
   "metadata": {},
   "outputs": [],
   "source": [
    "model_name = \"CatBoost\"\n",
    "model_idx = 1\n",
    "single_model_shap_vals = shap_df.loc[(shap_df[\"MODEL_INDEX\"] == model_idx) & (shap_df[\"MODEL_NAME\"] == model_name)]"
   ]
  },
  {
   "cell_type": "code",
   "execution_count": null,
   "metadata": {},
   "outputs": [],
   "source": []
  }
 ],
 "metadata": {
  "interpreter": {
   "hash": "2bb3af615a03c89378ba62f75b127b10ca437b567c162d06103c7beacde0b4ed"
  },
  "kernelspec": {
   "display_name": "Python 3.10.13 ('test_causica')",
   "language": "python",
   "name": "python3"
  },
  "language_info": {
   "codemirror_mode": {
    "name": "ipython",
    "version": 3
   },
   "file_extension": ".py",
   "mimetype": "text/x-python",
   "name": "python",
   "nbconvert_exporter": "python",
   "pygments_lexer": "ipython3",
   "version": "3.10.13"
  },
  "orig_nbformat": 4
 },
 "nbformat": 4,
 "nbformat_minor": 2
}
